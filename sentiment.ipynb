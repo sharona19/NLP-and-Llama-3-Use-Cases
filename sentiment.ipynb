import pandas as pd
import nltk
from nltk.sentiment.vader import SentimentIntensityAnalyzer
import matplotlib.pyplot as plt

# Descargar los datos de VADER
nltk.download('vader_lexicon')

# Leer el archivo CSV
df = pd.read_csv('data_from_news.csv')
df = df.dropna(subset=['article_keywords'])

# Inicializar el analizador de sentimientos
sia = SentimentIntensityAnalyzer()

# Añadir una columna para el análisis de sentimiento
df['sentiment'] = df['article_summary'].apply(lambda x: sia.polarity_scores(x)['compound'])

# Resumen del análisis de sentimiento
sentiment_summary = df['sentiment'].describe()
print(sentiment_summary)

# Crear un gráfico de barras del análisis de sentimiento
plt.figure(figsize=(10, 6))
df['sentiment'].hist(bins=20, color='blue', edgecolor='black')
plt.xlabel('Puntuación de Sentimiento (Compound)')
plt.ylabel('Frecuencia')
plt.title('Distribución del Sentimiento de las Noticias Económicas')
plt.grid(axis='y')

# Mostrar el gráfico
plt.show()
